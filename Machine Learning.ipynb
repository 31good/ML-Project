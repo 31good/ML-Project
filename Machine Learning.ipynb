{
 "cells": [
  {
   "cell_type": "code",
   "execution_count": 207,
   "id": "6cd51560",
   "metadata": {},
   "outputs": [],
   "source": [
    "import numpy as np\n",
    "import matplotlib.pyplot as plt \n",
    "from sklearn import preprocessing # preprossing is what we do with the data before we run the learning algorithm\n",
    "from sklearn.linear_model import LogisticRegression # importing Sklearn's logistic regression's module\n",
    "from sklearn.preprocessing import StandardScaler  # It is important in neural networks to scale the date\n",
    "from sklearn.model_selection import train_test_split  # The standard - train/test to prevent overfitting and choose hyperparameters\n",
    "from sklearn.metrics import accuracy_score \n",
    "import pandas as pd"
   ]
  },
  {
   "cell_type": "code",
   "execution_count": 208,
   "id": "33ab9961",
   "metadata": {},
   "outputs": [],
   "source": [
    "df=pd.read_csv(\"dataset.csv\",low_memory=False)"
   ]
  },
  {
   "cell_type": "code",
   "execution_count": 209,
   "id": "3923a48b",
   "metadata": {},
   "outputs": [
    {
     "data": {
      "text/html": [
       "<div>\n",
       "<style scoped>\n",
       "    .dataframe tbody tr th:only-of-type {\n",
       "        vertical-align: middle;\n",
       "    }\n",
       "\n",
       "    .dataframe tbody tr th {\n",
       "        vertical-align: top;\n",
       "    }\n",
       "\n",
       "    .dataframe thead th {\n",
       "        text-align: right;\n",
       "    }\n",
       "</style>\n",
       "<table border=\"1\" class=\"dataframe\">\n",
       "  <thead>\n",
       "    <tr style=\"text-align: right;\">\n",
       "      <th></th>\n",
       "      <th>e1</th>\n",
       "      <th>e2</th>\n",
       "      <th>e3</th>\n",
       "      <th>e4</th>\n",
       "      <th>m1</th>\n",
       "      <th>m2</th>\n",
       "      <th>m3</th>\n",
       "      <th>m4</th>\n",
       "      <th>m6</th>\n",
       "      <th>m7</th>\n",
       "      <th>emtion</th>\n",
       "    </tr>\n",
       "  </thead>\n",
       "  <tbody>\n",
       "    <tr>\n",
       "      <th>0</th>\n",
       "      <td>0.349199</td>\n",
       "      <td>0.283633</td>\n",
       "      <td>0.332759</td>\n",
       "      <td>0.216879</td>\n",
       "      <td>0.428061</td>\n",
       "      <td>0.307376</td>\n",
       "      <td>0.464030</td>\n",
       "      <td>0.477004</td>\n",
       "      <td>0.379559</td>\n",
       "      <td>0.555433</td>\n",
       "      <td>0</td>\n",
       "    </tr>\n",
       "    <tr>\n",
       "      <th>1</th>\n",
       "      <td>0.311972</td>\n",
       "      <td>0.203816</td>\n",
       "      <td>0.327639</td>\n",
       "      <td>0.225092</td>\n",
       "      <td>0.308788</td>\n",
       "      <td>0.248257</td>\n",
       "      <td>0.379399</td>\n",
       "      <td>0.293015</td>\n",
       "      <td>0.404383</td>\n",
       "      <td>0.451443</td>\n",
       "      <td>0</td>\n",
       "    </tr>\n",
       "    <tr>\n",
       "      <th>2</th>\n",
       "      <td>0.310054</td>\n",
       "      <td>0.200216</td>\n",
       "      <td>0.328004</td>\n",
       "      <td>0.224183</td>\n",
       "      <td>0.309334</td>\n",
       "      <td>0.247905</td>\n",
       "      <td>0.377769</td>\n",
       "      <td>0.290631</td>\n",
       "      <td>0.401430</td>\n",
       "      <td>0.449153</td>\n",
       "      <td>0</td>\n",
       "    </tr>\n",
       "    <tr>\n",
       "      <th>3</th>\n",
       "      <td>0.311457</td>\n",
       "      <td>0.203679</td>\n",
       "      <td>0.328945</td>\n",
       "      <td>0.224877</td>\n",
       "      <td>0.311774</td>\n",
       "      <td>0.248453</td>\n",
       "      <td>0.380679</td>\n",
       "      <td>0.290603</td>\n",
       "      <td>0.402368</td>\n",
       "      <td>0.450308</td>\n",
       "      <td>0</td>\n",
       "    </tr>\n",
       "    <tr>\n",
       "      <th>4</th>\n",
       "      <td>0.310568</td>\n",
       "      <td>0.198933</td>\n",
       "      <td>0.320973</td>\n",
       "      <td>0.215203</td>\n",
       "      <td>0.308446</td>\n",
       "      <td>0.247227</td>\n",
       "      <td>0.377342</td>\n",
       "      <td>0.288206</td>\n",
       "      <td>0.401431</td>\n",
       "      <td>0.448102</td>\n",
       "      <td>0</td>\n",
       "    </tr>\n",
       "    <tr>\n",
       "      <th>...</th>\n",
       "      <td>...</td>\n",
       "      <td>...</td>\n",
       "      <td>...</td>\n",
       "      <td>...</td>\n",
       "      <td>...</td>\n",
       "      <td>...</td>\n",
       "      <td>...</td>\n",
       "      <td>...</td>\n",
       "      <td>...</td>\n",
       "      <td>...</td>\n",
       "      <td>...</td>\n",
       "    </tr>\n",
       "    <tr>\n",
       "      <th>190962</th>\n",
       "      <td>0.371969</td>\n",
       "      <td>0.273850</td>\n",
       "      <td>0.363048</td>\n",
       "      <td>0.259385</td>\n",
       "      <td>0.400054</td>\n",
       "      <td>0.357103</td>\n",
       "      <td>0.485807</td>\n",
       "      <td>0.449603</td>\n",
       "      <td>0.436512</td>\n",
       "      <td>0.544286</td>\n",
       "      <td>5</td>\n",
       "    </tr>\n",
       "    <tr>\n",
       "      <th>190963</th>\n",
       "      <td>0.370781</td>\n",
       "      <td>0.271194</td>\n",
       "      <td>0.359660</td>\n",
       "      <td>0.257587</td>\n",
       "      <td>0.398328</td>\n",
       "      <td>0.358318</td>\n",
       "      <td>0.484162</td>\n",
       "      <td>0.449081</td>\n",
       "      <td>0.433241</td>\n",
       "      <td>0.541959</td>\n",
       "      <td>5</td>\n",
       "    </tr>\n",
       "    <tr>\n",
       "      <th>190964</th>\n",
       "      <td>0.371106</td>\n",
       "      <td>0.275380</td>\n",
       "      <td>0.363035</td>\n",
       "      <td>0.261500</td>\n",
       "      <td>0.404077</td>\n",
       "      <td>0.360256</td>\n",
       "      <td>0.487446</td>\n",
       "      <td>0.449858</td>\n",
       "      <td>0.434916</td>\n",
       "      <td>0.542196</td>\n",
       "      <td>5</td>\n",
       "    </tr>\n",
       "    <tr>\n",
       "      <th>190965</th>\n",
       "      <td>0.368823</td>\n",
       "      <td>0.267257</td>\n",
       "      <td>0.360465</td>\n",
       "      <td>0.254971</td>\n",
       "      <td>0.400572</td>\n",
       "      <td>0.355059</td>\n",
       "      <td>0.482350</td>\n",
       "      <td>0.447075</td>\n",
       "      <td>0.432530</td>\n",
       "      <td>0.544820</td>\n",
       "      <td>5</td>\n",
       "    </tr>\n",
       "    <tr>\n",
       "      <th>190966</th>\n",
       "      <td>0.871643</td>\n",
       "      <td>1.000000</td>\n",
       "      <td>0.666266</td>\n",
       "      <td>0.723634</td>\n",
       "      <td>0.457154</td>\n",
       "      <td>0.517820</td>\n",
       "      <td>0.000000</td>\n",
       "      <td>0.850039</td>\n",
       "      <td>0.363568</td>\n",
       "      <td>0.606660</td>\n",
       "      <td>5</td>\n",
       "    </tr>\n",
       "  </tbody>\n",
       "</table>\n",
       "<p>190967 rows × 11 columns</p>\n",
       "</div>"
      ],
      "text/plain": [
       "              e1        e2        e3        e4        m1        m2        m3  \\\n",
       "0       0.349199  0.283633  0.332759  0.216879  0.428061  0.307376  0.464030   \n",
       "1       0.311972  0.203816  0.327639  0.225092  0.308788  0.248257  0.379399   \n",
       "2       0.310054  0.200216  0.328004  0.224183  0.309334  0.247905  0.377769   \n",
       "3       0.311457  0.203679  0.328945  0.224877  0.311774  0.248453  0.380679   \n",
       "4       0.310568  0.198933  0.320973  0.215203  0.308446  0.247227  0.377342   \n",
       "...          ...       ...       ...       ...       ...       ...       ...   \n",
       "190962  0.371969  0.273850  0.363048  0.259385  0.400054  0.357103  0.485807   \n",
       "190963  0.370781  0.271194  0.359660  0.257587  0.398328  0.358318  0.484162   \n",
       "190964  0.371106  0.275380  0.363035  0.261500  0.404077  0.360256  0.487446   \n",
       "190965  0.368823  0.267257  0.360465  0.254971  0.400572  0.355059  0.482350   \n",
       "190966  0.871643  1.000000  0.666266  0.723634  0.457154  0.517820  0.000000   \n",
       "\n",
       "              m4        m6        m7  emtion  \n",
       "0       0.477004  0.379559  0.555433       0  \n",
       "1       0.293015  0.404383  0.451443       0  \n",
       "2       0.290631  0.401430  0.449153       0  \n",
       "3       0.290603  0.402368  0.450308       0  \n",
       "4       0.288206  0.401431  0.448102       0  \n",
       "...          ...       ...       ...     ...  \n",
       "190962  0.449603  0.436512  0.544286       5  \n",
       "190963  0.449081  0.433241  0.541959       5  \n",
       "190964  0.449858  0.434916  0.542196       5  \n",
       "190965  0.447075  0.432530  0.544820       5  \n",
       "190966  0.850039  0.363568  0.606660       5  \n",
       "\n",
       "[190967 rows x 11 columns]"
      ]
     },
     "execution_count": 209,
     "metadata": {},
     "output_type": "execute_result"
    }
   ],
   "source": [
    "df"
   ]
  },
  {
   "cell_type": "code",
   "execution_count": 210,
   "id": "98dc1a0a",
   "metadata": {},
   "outputs": [],
   "source": [
    "target_dict=df.iloc[:,-1].value_counts(ascending=True)"
   ]
  },
  {
   "cell_type": "code",
   "execution_count": 224,
   "id": "d7d20d36",
   "metadata": {
    "scrolled": true
   },
   "outputs": [
    {
     "data": {
      "text/plain": [
       "<AxesSubplot:>"
      ]
     },
     "execution_count": 224,
     "metadata": {},
     "output_type": "execute_result"
    },
    {
     "data": {
      "image/png": "[encoded data removed]",
      "text/plain": [
       "<Figure size 432x288 with 1 Axes>"
      ]
     },
     "metadata": {
      "needs_background": "light"
     },
     "output_type": "display_data"
    }
   ],
   "source": [
    "target_dict.plot(kind=\"bar\")"
   ]
  },
  {
   "cell_type": "code",
   "execution_count": 227,
   "id": "820d879a",
   "metadata": {},
   "outputs": [
    {
     "data": {
      "text/plain": [
       "<AxesSubplot:ylabel='Frequency'>"
      ]
     },
     "execution_count": 227,
     "metadata": {},
     "output_type": "execute_result"
    },
    {
     "data": {
      "image/png": "[encoded data removed]",
      "text/plain": [
       "<Figure size 432x288 with 1 Axes>"
      ]
     },
     "metadata": {
      "needs_background": "light"
     },
     "output_type": "display_data"
    }
   ],
   "source": [
    "df.iloc[:,0].plot(kind=\"hist\")"
   ]
  },
  {
   "cell_type": "code",
   "execution_count": 212,
   "id": "eafd697c",
   "metadata": {},
   "outputs": [],
   "source": [
    "X=df.iloc[:,:-1]\n",
    "y=df.iloc[:,-1]"
   ]
  },
  {
   "cell_type": "code",
   "execution_count": 213,
   "id": "46c5365b",
   "metadata": {},
   "outputs": [
    {
     "name": "stdout",
     "output_type": "stream",
     "text": [
      "1.0\n"
     ]
    }
   ],
   "source": [
    "print(max(df.iloc[:,0]))"
   ]
  },
  {
   "cell_type": "code",
   "execution_count": 228,
   "id": "4f51d4c2",
   "metadata": {},
   "outputs": [],
   "source": [
    "scaler=preprocessing.StandardScaler()\n",
    "X_scale=scaler.fit_transform(X)"
   ]
  },
  {
   "cell_type": "code",
   "execution_count": 238,
   "id": "c56f4a25",
   "metadata": {},
   "outputs": [
    {
     "name": "stdout",
     "output_type": "stream",
     "text": [
      "(190967,)\n"
     ]
    },
    {
     "data": {
      "text/plain": [
       "(array([9848., 9369., 7186., 6193., 5895.]),\n",
       " array([0. , 0.2, 0.4, 0.6, 0.8, 1. ]),\n",
       " <BarContainer object of 5 artists>)"
      ]
     },
     "execution_count": 238,
     "metadata": {},
     "output_type": "execute_result"
    },
    {
     "data": {
      "image/png": "[encoded data removed]",
      "text/plain": [
       "<Figure size 432x288 with 1 Axes>"
      ]
     },
     "metadata": {
      "needs_background": "light"
     },
     "output_type": "display_data"
    }
   ],
   "source": [
    "print(X_scale[:,0].shape)\n",
    "plt.hist(X_scale[:,2], bins = [0,0.2,0.4,0.6,0.8,1]) "
   ]
  },
  {
   "cell_type": "code",
   "execution_count": 215,
   "id": "c7251f14",
   "metadata": {},
   "outputs": [],
   "source": [
    "#Split the data into training and test set\n",
    "X_train, X_test, y_train, y_test = train_test_split(X, y, test_size=0.25,random_state=42)"
   ]
  },
  {
   "cell_type": "code",
   "execution_count": 216,
   "id": "178dd2c6",
   "metadata": {},
   "outputs": [],
   "source": [
    "y_train=y_train.to_numpy()\n",
    "y_test=y_test.to_numpy()"
   ]
  },
  {
   "cell_type": "code",
   "execution_count": 217,
   "id": "f7a3983c",
   "metadata": {},
   "outputs": [],
   "source": [
    "model = LogisticRegression(multi_class='multinomial', solver='lbfgs',max_iter=1000,tol=10**(-10),penalty=\"none\")"
   ]
  },
  {
   "cell_type": "code",
   "execution_count": 218,
   "id": "f94d89b6",
   "metadata": {},
   "outputs": [
    {
     "data": {
      "text/plain": [
       "0.4941455751440042"
      ]
     },
     "execution_count": 218,
     "metadata": {},
     "output_type": "execute_result"
    }
   ],
   "source": [
    "model.fit(X_train,y_train)\n",
    "acc_model_train=model.score(X_train,y_train)\n",
    "acc_model_train"
   ]
  },
  {
   "cell_type": "code",
   "execution_count": 183,
   "id": "eb258005",
   "metadata": {},
   "outputs": [
    {
     "data": {
      "text/plain": [
       "0.49347402044850563"
      ]
     },
     "execution_count": 183,
     "metadata": {},
     "output_type": "execute_result"
    }
   ],
   "source": [
    "model.fit(X_test,y_test)\n",
    "acc_model=model.score(X_test,y_test)\n",
    "acc_model"
   ]
  },
  {
   "cell_type": "code",
   "execution_count": null,
   "id": "dd3f1a41",
   "metadata": {},
   "outputs": [],
   "source": []
  }
 ],
 "metadata": {
  "kernelspec": {
   "display_name": "Python 3 (ipykernel)",
   "language": "python",
   "name": "python3"
  },
  "language_info": {
   "codemirror_mode": {
    "name": "ipython",
    "version": 3
   },
   "file_extension": ".py",
   "mimetype": "text/x-python",
   "name": "python",
   "nbconvert_exporter": "python",
   "pygments_lexer": "ipython3",
   "version": "3.10.2"
  }
 },
 "nbformat": 4,
 "nbformat_minor": 5
}
